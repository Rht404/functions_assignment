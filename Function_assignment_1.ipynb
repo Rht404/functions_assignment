{
 "cells": [
  {
   "cell_type": "code",
   "execution_count": null,
   "id": "406b46f7-ac1d-4ee3-b75a-da1c9fc4e02f",
   "metadata": {},
   "outputs": [],
   "source": [
    "'''Q1.Which keyword is used to create a function? Create a function to return a list of odd numbers in the\n",
    "range of 1 to 25.'''\n",
    "Ans- def keyword is used to create a function."
   ]
  },
  {
   "cell_type": "code",
   "execution_count": 5,
   "id": "9ddc28c0-c3e0-48bf-ab08-8c10af2c7289",
   "metadata": {},
   "outputs": [
    {
     "name": "stdout",
     "output_type": "stream",
     "text": [
      "[1, 3, 5, 7, 9, 11, 13, 15, 17, 19, 21, 23, 25]\n"
     ]
    }
   ],
   "source": [
    "#function to return a list of odd numbers in the range of 1 to 25.\n",
    "def odd_num():\n",
    "    l=[]\n",
    "    for i in range(26):\n",
    "        if(i%2!=0):\n",
    "            l.append(i)\n",
    "        else:\n",
    "            continue\n",
    "    return l\n",
    "print(odd_num())"
   ]
  },
  {
   "cell_type": "code",
   "execution_count": null,
   "id": "76f1e266-de67-431d-9f2d-2a40ab609da0",
   "metadata": {},
   "outputs": [],
   "source": [
    "'''Q2. Why *args and **kwargs is used in some functions? Create a function each for *args and **kwargs\n",
    "to demonstrate their use.'''\n",
    "Ans-*args allows us to pass a variable number of non-keyword arguments to a Python function.\n",
    "    In the function, we  use an asterisk (*) before the parameter name to pass a variable number of arguments.\n",
    "\n",
    "    **kwargs allows us to pass a variable number of keyword arguments to a Python function. \n",
    "    In the function, we use the double-asterisk (**) before the parameter name to denote this type of argument.\n",
    "    arguments, in this case, are passed as a dictionary and these arguments make a dictionary inside the function \n",
    "    with name same as the parameter excluding **."
   ]
  },
  {
   "cell_type": "code",
   "execution_count": 3,
   "id": "b8ed11bd-9c06-4332-a639-cd4ecb9f54d0",
   "metadata": {},
   "outputs": [
    {
     "name": "stdout",
     "output_type": "stream",
     "text": [
      "360\n"
     ]
    }
   ],
   "source": [
    "#Example of Question-2 for *args\n",
    "def multiply(*args):\n",
    "    c=1\n",
    "    for i in args:\n",
    "        c*=i\n",
    "    return c\n",
    "print(multiply(2,3,3,4,5))\n"
   ]
  },
  {
   "cell_type": "code",
   "execution_count": 11,
   "id": "fca68822-139b-4e05-b535-5967aeb3c663",
   "metadata": {},
   "outputs": [
    {
     "name": "stdout",
     "output_type": "stream",
     "text": [
      "(25, [1, 3, 5, 7, 9])\n"
     ]
    }
   ],
   "source": [
    "#Example of Question-2 for *kwargs\n",
    "def sum_oddnum(*kwargs):\n",
    "    sum=0\n",
    "    l=[]\n",
    "    for i in kwargs:\n",
    "        if(i%2!=0):\n",
    "            sum+=i\n",
    "            l.append(i)\n",
    "        else:\n",
    "            continue\n",
    "    return sum,l\n",
    "print(sum_oddnum(1,2,3,4,5,6,7,8,9,10))"
   ]
  },
  {
   "cell_type": "code",
   "execution_count": null,
   "id": "256d3e26-5d04-4b1c-8e47-11508e8169e6",
   "metadata": {},
   "outputs": [],
   "source": [
    "'''Q3.What is an iterator in python? Name the method used to initialise the iterator object and the method\n",
    "used for iteration. Use these methods to print the first five elements of the given list [2, 4, 6, 8, 10, 12, 14,\n",
    "16, 18, 20].'''\n",
    "Ans-An iterator in Python is an object that is used to iterate over iterable objects like lists, tuples, dicts, and sets. \n",
    "    The Python iterators object is initialized using the iter() method. It uses the next() method for iteration.\n",
    "\n",
    "    __iter__(): The iter() method is called for the initialization of an iterator. This returns an iterator object\n",
    "    __next__(): The next method returns the next value for the iterable. When we use a for loop to traverse any iterable object,\n",
    "      internally it uses the iter() method to get an iterator object, which further uses the next() method to iterate over.\n",
    "    This method raises a StopIteration to signal the end of the iteration."
   ]
  },
  {
   "cell_type": "code",
   "execution_count": 13,
   "id": "7125ca75-a818-4544-ab27-a3f6fb41a2a7",
   "metadata": {},
   "outputs": [
    {
     "name": "stdout",
     "output_type": "stream",
     "text": [
      "2\n",
      "4\n",
      "6\n",
      "8\n",
      "10\n"
     ]
    }
   ],
   "source": [
    "#use of iter and next function-\n",
    "l= [2, 4, 6, 8, 10, 12, 14,16, 18, 20]\n",
    "first_five=iter(l)\n",
    "\n",
    "for i in range(5):\n",
    "    print(next(first_five))\n"
   ]
  },
  {
   "cell_type": "code",
   "execution_count": null,
   "id": "3e12c28b-6d92-46ec-b0ba-45ae2e0ff5ff",
   "metadata": {},
   "outputs": [],
   "source": [
    "'''Q4. What is a generator function in python? Why yield keyword is used? Give an example of a generator\n",
    "function'''\n",
    "Ans-In Python, a generator is a function that returns an iterator that produces a sequence of values when\n",
    "    iterated over. Generators are useful when we want to produce a large sequence of values, but we don't\n",
    "    want to store all of them in memory at once.\n",
    "    \n",
    "    yield keyword is used to create a generator function. A type of function that is memory efficient and\n",
    "    can be used like an iterator object.\n",
    "    \n",
    "    "
   ]
  },
  {
   "cell_type": "code",
   "execution_count": 19,
   "id": "506fa4f8-f893-41eb-9bad-7d2fbfca6200",
   "metadata": {},
   "outputs": [
    {
     "name": "stdout",
     "output_type": "stream",
     "text": [
      "[1, 1, 2, 3, 5, 8]\n"
     ]
    }
   ],
   "source": [
    "#use of generator function-\n",
    "def fibonacci_numbers(nums):\n",
    "    x, y = 0, 1\n",
    "    for i in range(nums):\n",
    "        x, y = y, x+y\n",
    "        yield x\n",
    "\n",
    "print(list(fibonacci_numbers(6)))        \n"
   ]
  },
  {
   "cell_type": "code",
   "execution_count": null,
   "id": "0caa9dc4-eb65-451b-961b-013853343c4e",
   "metadata": {},
   "outputs": [],
   "source": [
    "'''Q5. Create a generator function for prime numbers less than 1000. Use the next() method to print the\n",
    "first 20 prime numbers.'''\n",
    "def prime_number(num):\n",
    "    count=0\n",
    "    l=[]\n",
    "    for i in range(2,num):\n",
    "           yield i-1\n",
    "            if(i%(i-1)==0 and i<):\n",
    "                count+=1\n",
    "                \n",
    "            \n",
    "            \n",
    "            \n"
   ]
  },
  {
   "cell_type": "code",
   "execution_count": 24,
   "id": "e0591ca4-5fc7-409f-bb6c-cc2b310f6250",
   "metadata": {},
   "outputs": [
    {
     "name": "stdout",
     "output_type": "stream",
     "text": [
      "0\n",
      "1\n",
      "1\n",
      "2\n",
      "3\n",
      "5\n",
      "8\n",
      "13\n",
      "21\n",
      "34\n"
     ]
    }
   ],
   "source": [
    "#Q6. Write a python program to print the first 10 Fibonacci numbers using a while loop.\n",
    "i=0\n",
    "a,b=0,1\n",
    "while i<10:\n",
    "    print(a)\n",
    "    a,b=b,a+b\n",
    "    i+=1\n",
    "    "
   ]
  },
  {
   "cell_type": "code",
   "execution_count": 3,
   "id": "0a30ea62-d0db-42b8-b369-d3e50fa4f564",
   "metadata": {},
   "outputs": [
    {
     "name": "stdout",
     "output_type": "stream",
     "text": [
      "['p', 'w', 's', 'k', 'i', 'l', 'l', 's']\n"
     ]
    }
   ],
   "source": [
    "'''Q7.Write a List Comprehension to iterate through the given string: ‘pwskills’.\n",
    "Expected output: ['p', 'w', 's', 'k', 'i', 'l', 'l', 's']'''\n",
    "#Ans-\n",
    "s='pwskills'\n",
    "iterate=iter(s)\n",
    "print(list(iterate))"
   ]
  },
  {
   "cell_type": "code",
   "execution_count": 3,
   "id": "999ac95e-f59e-42f3-810b-b40f4dd6fa23",
   "metadata": {},
   "outputs": [
    {
     "name": "stdin",
     "output_type": "stream",
     "text": [
      "enter a number : 1234321\n"
     ]
    },
    {
     "name": "stdout",
     "output_type": "stream",
     "text": [
      "1234321 is a palindrome \n"
     ]
    }
   ],
   "source": [
    "#Q8.Write a python program to check whether a given number is Palindrome or not using a while loop.\n",
    "#Ans-\n",
    "int1=int(input(\"enter a number :\"))\n",
    "k=int1\n",
    "number=0\n",
    "while int1>0:\n",
    "    remainder=int1%10\n",
    "    number=number*10+remainder\n",
    "    int1//=10\n",
    "if(number==k):\n",
    "    print(f\"{k} is a palindrome \")\n",
    "else:\n",
    "    print(f\"{k} is not a palindrome \")\n",
    "\n",
    "    \n",
    "     "
   ]
  },
  {
   "cell_type": "code",
   "execution_count": 8,
   "id": "f4946d2c-14eb-48bc-9f01-9961aa53d6e2",
   "metadata": {},
   "outputs": [
    {
     "name": "stdout",
     "output_type": "stream",
     "text": [
      "[1, 2, 3, 4, 5, 6, 7, 8, 9, 10, 11, 12, 13, 14, 15, 16, 17, 18, 19, 20, 21, 22, 23, 24, 25, 26, 27, 28, 29, 30, 31, 32, 33, 34, 35, 36, 37, 38, 39, 40, 41, 42, 43, 44, 45, 46, 47, 48, 49, 50, 51, 52, 53, 54, 55, 56, 57, 58, 59, 60, 61, 62, 63, 64, 65, 66, 67, 68, 69, 70, 71, 72, 73, 74, 75, 76, 77, 78, 79, 80, 81, 82, 83, 84, 85, 86, 87, 88, 89, 90, 91, 92, 93, 94, 95, 96, 97, 98, 99, 100]\n",
      "[1, 3, 5, 7, 9, 11, 13, 15, 17, 19, 21, 23, 25, 27, 29, 31, 33, 35, 37, 39, 41, 43, 45, 47, 49, 51, 53, 55, 57, 59, 61, 63, 65, 67, 69, 71, 73, 75, 77, 79, 81, 83, 85, 87, 89, 91, 93, 95, 97, 99]\n"
     ]
    }
   ],
   "source": [
    "#Q9. Write a code to print odd numbers from 1 to 100 using list comprehension.\n",
    "#Ans-\n",
    "numbers = [num for num in range(1, 101)]\n",
    "print(numbers)\n",
    "\n",
    "odd_numbers=[num for num in numbers if num%2!=0]\n",
    "print(odd_numbers)\n"
   ]
  },
  {
   "cell_type": "code",
   "execution_count": null,
   "id": "e07e21d0-e999-4ed7-b56c-1e864610a94b",
   "metadata": {},
   "outputs": [],
   "source": []
  }
 ],
 "metadata": {
  "kernelspec": {
   "display_name": "Python 3 (ipykernel)",
   "language": "python",
   "name": "python3"
  },
  "language_info": {
   "codemirror_mode": {
    "name": "ipython",
    "version": 3
   },
   "file_extension": ".py",
   "mimetype": "text/x-python",
   "name": "python",
   "nbconvert_exporter": "python",
   "pygments_lexer": "ipython3",
   "version": "3.10.8"
  }
 },
 "nbformat": 4,
 "nbformat_minor": 5
}
